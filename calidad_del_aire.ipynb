{
 "cells": [
  {
   "cell_type": "code",
   "execution_count": 48,
   "metadata": {},
   "outputs": [],
   "source": [
    "import pandas as pd\n",
    "import sqlite3\n",
    "import requests"
   ]
  },
  {
   "cell_type": "code",
   "execution_count": 52,
   "metadata": {},
   "outputs": [
    {
     "name": "stdout",
     "output_type": "stream",
     "text": [
      "                  City        State  Median Age  Male Population  \\\n",
      "0               Denver     Colorado        34.1         341137.0   \n",
      "1                Provo         Utah        23.6          56231.0   \n",
      "2              Hampton     Virginia        35.5          66214.0   \n",
      "3           Birmingham      Alabama        35.6         102122.0   \n",
      "4              Greeley     Colorado        31.0          50792.0   \n",
      "...                ...          ...         ...              ...   \n",
      "2022  San Buenaventura   California        37.7          53932.0   \n",
      "2058         Harlingen        Texas        30.1          32404.0   \n",
      "2070             Tyler        Texas        33.9          50422.0   \n",
      "2269        Bellflower   California        33.4          38936.0   \n",
      "2753             Ponce  Puerto Rico        40.5          56968.0   \n",
      "\n",
      "      Female Population  Total Population  Foreign-born  \\\n",
      "0              341408.0            682545      113222.0   \n",
      "1               59027.0            115258       10925.0   \n",
      "2               70240.0            136454        6204.0   \n",
      "3              112789.0            214911        8258.0   \n",
      "4               50091.0            100883       11480.0   \n",
      "...                 ...               ...           ...   \n",
      "2022            55785.0            109717       18025.0   \n",
      "2058            33365.0             65769       10391.0   \n",
      "2070            53283.0            103705        8225.0   \n",
      "2269            39498.0             78434       24607.0   \n",
      "2753            64615.0            121583           NaN   \n",
      "\n",
      "      Average Household Size State Code  \n",
      "0                       2.33         CO  \n",
      "1                       3.28         UT  \n",
      "2                       2.48         VA  \n",
      "3                       2.21         AL  \n",
      "4                       2.75         CO  \n",
      "...                      ...        ...  \n",
      "2022                    2.68         CA  \n",
      "2058                    3.00         TX  \n",
      "2070                    2.59         TX  \n",
      "2269                    3.58         CA  \n",
      "2753                     NaN         PR  \n",
      "\n",
      "[596 rows x 9 columns]\n"
     ]
    }
   ],
   "source": [
    "def ej_1_cargar_datos_demograficos() -> pd.DataFrame:\n",
    "    data = pd.read_csv('us-cities-demographics.csv', sep=';')\n",
    "    data = pd.DataFrame(data)\n",
    "    data = data.drop(['Race', 'Count', 'Number of Veterans'], axis=1)\n",
    "    data.drop_duplicates(inplace=True)\n",
    "    data.to_csv(\"demographics-limpio.csv\")\n",
    "\n",
    "print(data)"
   ]
  },
  {
   "cell_type": "code",
   "execution_count": 15,
   "metadata": {},
   "outputs": [],
   "source": [
    "conn = sqlite3.connect('CalidadDeAire.db')"
   ]
  },
  {
   "cell_type": "code",
   "execution_count": null,
   "metadata": {},
   "outputs": [],
   "source": [
    "SELECT p.City  , c2.CO , c2.overall_aqi ,p.\"Total Population\" \n",
    "FROM ciudades c, poblacion p\n",
    "JOIN ciudades c2 on c2.City_1 == p.City \n",
    "GROUP BY p.\"Total Population\"  \n",
    "ORDER BY p.\"Total Population\"  DESC \n",
    "LIMIT 10;"
   ]
  }
 ],
 "metadata": {
  "kernelspec": {
   "display_name": "Python 3",
   "language": "python",
   "name": "python3"
  },
  "language_info": {
   "codemirror_mode": {
    "name": "ipython",
    "version": 3
   },
   "file_extension": ".py",
   "mimetype": "text/x-python",
   "name": "python",
   "nbconvert_exporter": "python",
   "pygments_lexer": "ipython3",
   "version": "3.11.3"
  }
 },
 "nbformat": 4,
 "nbformat_minor": 2
}
